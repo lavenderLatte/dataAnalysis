{
 "cells": [
  {
   "cell_type": "markdown",
   "metadata": {},
   "source": [
    "## Data Aquisition \n",
    "### – Load Data from CSVs"
   ]
  },
  {
   "cell_type": "code",
   "execution_count": 1,
   "metadata": {
    "collapsed": true
   },
   "outputs": [],
   "source": [
    "import unicodecsv"
   ]
  },
  {
   "cell_type": "code",
   "execution_count": 2,
   "metadata": {
    "collapsed": true
   },
   "outputs": [],
   "source": [
    "import unicodecsv\n",
    "\n",
    "def readCSV(filename):\n",
    "    \"\"\"\n",
    "    Reads in the data from given file; filename\n",
    "    \n",
    "    INPUT : csv file\n",
    "    OUTPUT: list\n",
    "    \"\"\"\n",
    "    with open(filename, 'rb') as file:\n",
    "        handle = unicodecsv.DictReader(file)\n",
    "        return list(handle)"
   ]
  },
  {
   "cell_type": "code",
   "execution_count": 3,
   "metadata": {
    "collapsed": false
   },
   "outputs": [
    {
     "data": {
      "text/plain": [
       "OrderedDict([('account_key', '448'),\n",
       "             ('status', 'canceled'),\n",
       "             ('join_date', '2014-11-10'),\n",
       "             ('cancel_date', '2015-01-14'),\n",
       "             ('days_to_cancel', '65'),\n",
       "             ('is_udacity', 'True'),\n",
       "             ('is_canceled', 'True')])"
      ]
     },
     "execution_count": 3,
     "metadata": {},
     "output_type": "execute_result"
    }
   ],
   "source": [
    "enrollments = readCSV('enrollments.csv') # data type: list\n",
    "enrollments[0] # shows first row with col name from data file "
   ]
  },
  {
   "cell_type": "code",
   "execution_count": 4,
   "metadata": {
    "collapsed": false
   },
   "outputs": [
    {
     "data": {
      "text/plain": [
       "'448'"
      ]
     },
     "execution_count": 4,
     "metadata": {},
     "output_type": "execute_result"
    }
   ],
   "source": [
    "enrollments[0]['account_key'] # shows first row x first col data"
   ]
  },
  {
   "cell_type": "code",
   "execution_count": 5,
   "metadata": {
    "collapsed": false,
    "scrolled": true
   },
   "outputs": [
    {
     "data": {
      "text/plain": [
       "OrderedDict([('acct', '0'),\n",
       "             ('utc_date', '2015-01-09'),\n",
       "             ('num_courses_visited', '1.0'),\n",
       "             ('total_minutes_visited', '11.6793745'),\n",
       "             ('lessons_completed', '0.0'),\n",
       "             ('projects_completed', '0.0')])"
      ]
     },
     "execution_count": 5,
     "metadata": {},
     "output_type": "execute_result"
    }
   ],
   "source": [
    "daily_engagement = readCSV('daily_engagement.csv')\n",
    "daily_engagement[0]"
   ]
  },
  {
   "cell_type": "code",
   "execution_count": 6,
   "metadata": {
    "collapsed": false
   },
   "outputs": [
    {
     "data": {
      "text/plain": [
       "OrderedDict([('creation_date', '2015-01-14'),\n",
       "             ('completion_date', '2015-01-16'),\n",
       "             ('assigned_rating', 'UNGRADED'),\n",
       "             ('account_key', '256'),\n",
       "             ('lesson_key', '3176718735'),\n",
       "             ('processing_state', 'EVALUATED')])"
      ]
     },
     "execution_count": 6,
     "metadata": {},
     "output_type": "execute_result"
    }
   ],
   "source": [
    "project_submissions = readCSV('project_submissions.csv')\n",
    "project_submissions[0] "
   ]
  },
  {
   "cell_type": "markdown",
   "metadata": {},
   "source": [
    "## Data Cleaning \n",
    "### – Fix Data Types to Suitable Format"
   ]
  },
  {
   "cell_type": "code",
   "execution_count": 7,
   "metadata": {
    "collapsed": true
   },
   "outputs": [],
   "source": [
    "from datetime import datetime as dt"
   ]
  },
  {
   "cell_type": "code",
   "execution_count": 8,
   "metadata": {
    "collapsed": true
   },
   "outputs": [],
   "source": [
    "def convertDatetime(date):\n",
    "    \"\"\"\n",
    "    Takes str type data, and returns in into a Python datetime object\n",
    "    If there is no date given, returns None\n",
    "    \n",
    "    INPUT : string\n",
    "    OUTPUT: datetime obj or None\n",
    "    \"\"\"\n",
    "    if date == '':\n",
    "        return None\n",
    "    else:\n",
    "        return dt.strptime(date, '%Y-%m-%d')"
   ]
  },
  {
   "cell_type": "code",
   "execution_count": 9,
   "metadata": {
    "collapsed": true
   },
   "outputs": [],
   "source": [
    "def convertInt(i):\n",
    "    \"\"\"\n",
    "    Takes a string which is either an empty string or represents an integer,\n",
    "    and returns an int or None.\n",
    "    \n",
    "    INPUT : string\n",
    "    OUTPUT: int or None\n",
    "    \"\"\"\n",
    "    if i == '':\n",
    "        return None\n",
    "    else:\n",
    "        return int(i)"
   ]
  },
  {
   "cell_type": "code",
   "execution_count": 10,
   "metadata": {
    "collapsed": true
   },
   "outputs": [],
   "source": [
    "# Clean up the data types in the enrollments table\n",
    "# this can be run only once, if I run it again, the data type is already converted, and will cause error\n",
    "\n",
    "for student in enrollments:\n",
    "    student['cancel_date'] = convertDatetime(student['cancel_date'])  # str -> datetime obj\n",
    "    student['days_to_cancel'] = convertInt(student['days_to_cancel']) # str -> int\n",
    "    student['is_canceled'] = student['is_canceled'] == 'True'         # str -> bool\n",
    "    student['is_udacity'] = student['is_udacity'] == 'True'\n",
    "    student['join_date'] = convertDatetime(student['join_date'])"
   ]
  },
  {
   "cell_type": "code",
   "execution_count": 11,
   "metadata": {
    "collapsed": false
   },
   "outputs": [
    {
     "data": {
      "text/plain": [
       "OrderedDict([('account_key', '448'),\n",
       "             ('status', 'canceled'),\n",
       "             ('join_date', datetime.datetime(2014, 11, 10, 0, 0)),\n",
       "             ('cancel_date', datetime.datetime(2015, 1, 14, 0, 0)),\n",
       "             ('days_to_cancel', 65),\n",
       "             ('is_udacity', True),\n",
       "             ('is_canceled', True)])"
      ]
     },
     "execution_count": 11,
     "metadata": {},
     "output_type": "execute_result"
    }
   ],
   "source": [
    "enrollments[0] # shows data in suitable/meaningful format"
   ]
  },
  {
   "cell_type": "code",
   "execution_count": 12,
   "metadata": {
    "collapsed": true
   },
   "outputs": [],
   "source": [
    "# Clean up the data types in the engagement table\n",
    "\n",
    "for record in daily_engagement:\n",
    "    record['lessons_completed'] = int(float(record['lessons_completed']))    # str -> float ->int\n",
    "    record['num_courses_visited'] = int(float(record['num_courses_visited']))\n",
    "    record['projects_completed'] = int(float(record['projects_completed']))\n",
    "    record['total_minutes_visited'] = float(record['total_minutes_visited']) # str -> float\n",
    "    record['utc_date'] = convertDatetime(record['utc_date'])"
   ]
  },
  {
   "cell_type": "code",
   "execution_count": 13,
   "metadata": {
    "collapsed": false
   },
   "outputs": [
    {
     "data": {
      "text/plain": [
       "OrderedDict([('acct', '0'),\n",
       "             ('utc_date', datetime.datetime(2015, 1, 9, 0, 0)),\n",
       "             ('num_courses_visited', 1),\n",
       "             ('total_minutes_visited', 11.6793745),\n",
       "             ('lessons_completed', 0),\n",
       "             ('projects_completed', 0)])"
      ]
     },
     "execution_count": 13,
     "metadata": {},
     "output_type": "execute_result"
    }
   ],
   "source": [
    "daily_engagement[0]"
   ]
  },
  {
   "cell_type": "code",
   "execution_count": 14,
   "metadata": {
    "collapsed": true
   },
   "outputs": [],
   "source": [
    "# Clean up the data types in the submissions table\n",
    "\n",
    "for submission in project_submissions:\n",
    "    submission['completion_date'] = convertDatetime(submission['completion_date'])\n",
    "    submission['creation_date'] = convertDatetime(submission['creation_date'])"
   ]
  },
  {
   "cell_type": "code",
   "execution_count": 15,
   "metadata": {
    "collapsed": false
   },
   "outputs": [
    {
     "data": {
      "text/plain": [
       "OrderedDict([('creation_date', datetime.datetime(2015, 1, 14, 0, 0)),\n",
       "             ('completion_date', datetime.datetime(2015, 1, 16, 0, 0)),\n",
       "             ('assigned_rating', 'UNGRADED'),\n",
       "             ('account_key', '256'),\n",
       "             ('lesson_key', '3176718735'),\n",
       "             ('processing_state', 'EVALUATED')])"
      ]
     },
     "execution_count": 15,
     "metadata": {},
     "output_type": "execute_result"
    }
   ],
   "source": [
    "project_submissions[0]"
   ]
  },
  {
   "cell_type": "markdown",
   "metadata": {},
   "source": [
    "## Questions\n",
    "### – After briefly looking at the data, what interesting question can we ask?\n",
    "\n",
    "- How long each student takes to submit their projects?\n",
    "- How do students who passes their projects differ from those who don't in terms of daily engagement?\n",
    "- How many do students visit courses and for how long do they visit before cancel?\n",
    "- Among visited courses, how many lessons and projects were completed?\n",
    "- Any relationship between the number of completed lessons and the number of completed project?\n",
    "- How the daily engagement of each student changes?\n",
    "- How many times students submit their projects before it passes?"
   ]
  },
  {
   "cell_type": "markdown",
   "metadata": {},
   "source": [
    "## Explore Data\n",
    "\n",
    "### – Closer look to the data"
   ]
  },
  {
   "cell_type": "code",
   "execution_count": null,
   "metadata": {
    "collapsed": false
   },
   "outputs": [],
   "source": [
    "print (type(enrollments))\n",
    "print (type(student))"
   ]
  },
  {
   "cell_type": "code",
   "execution_count": null,
   "metadata": {
    "collapsed": false
   },
   "outputs": [],
   "source": [
    "print (\"total number of rows:\", len(enrollments))\n",
    "print(\"total number of columns:\", len(student))"
   ]
  },
  {
   "cell_type": "code",
   "execution_count": 23,
   "metadata": {
    "collapsed": true
   },
   "outputs": [],
   "source": [
    "def studentCounter(data):\n",
    "    \"\"\"\n",
    "    Returns the total number of rows in data set\n",
    "    and the the number of unique account key.\n",
    "    \n",
    "    INPUT : list\n",
    "    OUTPUT: tuple\n",
    "    \"\"\"\n",
    "    \n",
    "    unique = set() # \"set\" is unordered collections of unique elements\n",
    "\n",
    "    for row in data:\n",
    "        try:\n",
    "            unique.add(row['account_key'])\n",
    "            \n",
    "        # this is just a hack to use same function for all three data file \n",
    "        # it's not good practice\n",
    "        except Exception:\n",
    "            unique.add(row['acct'])\n",
    "\n",
    "    return (len(data), len(unique))"
   ]
  },
  {
   "cell_type": "code",
   "execution_count": 24,
   "metadata": {
    "collapsed": false
   },
   "outputs": [
    {
     "data": {
      "text/plain": [
       "(1640, 1302)"
      ]
     },
     "execution_count": 24,
     "metadata": {},
     "output_type": "execute_result"
    }
   ],
   "source": [
    "studentCounter(enrollments) # among 1640 student info, there are 338(1640-1302) duplicated ones"
   ]
  },
  {
   "cell_type": "code",
   "execution_count": 25,
   "metadata": {
    "collapsed": false
   },
   "outputs": [
    {
     "data": {
      "text/plain": [
       "(136240, 1237)"
      ]
     },
     "execution_count": 25,
     "metadata": {},
     "output_type": "execute_result"
    }
   ],
   "source": [
    "studentCounter(daily_engagement) # 136240 daily records info is about 1237 unique students"
   ]
  },
  {
   "cell_type": "code",
   "execution_count": 26,
   "metadata": {
    "collapsed": false
   },
   "outputs": [
    {
     "data": {
      "text/plain": [
       "(3642, 743)"
      ]
     },
     "execution_count": 26,
     "metadata": {},
     "output_type": "execute_result"
    }
   ],
   "source": [
    "studentCounter(project_submissions) # total of 3642 submissions are from 743 students"
   ]
  },
  {
   "cell_type": "markdown",
   "metadata": {},
   "source": [
    "### – Observations\n",
    "\n",
    "- The number of row is bigger than the number of unique students.\n",
    "    - This might be due to the students enrolled and cancelled and re-enrolled again with same account info.\n",
    "- __The unique number of students from daily engagement is smaller than the number of enrolled students.__\n",
    "    - This might be because either some students enrolled to the course but didn't start anything yet.\n",
    "    - Yet, still the num of unique students in enrollments and daily engagement should match!!!\n",
    "    - _We are going to fix it in below_\n",
    "- About only half of enrolled students submitted projects.\n",
    "- __There are two different names that holds same type of info; 'account_key' and 'acct'__\n",
    "    - _We are going to fix it in below_\n"
   ]
  },
  {
   "cell_type": "markdown",
   "metadata": {},
   "source": [
    "## More Data Cleaning\n",
    "### – Multiple Column Names for the Same Data"
   ]
  },
  {
   "cell_type": "code",
   "execution_count": 16,
   "metadata": {
    "collapsed": true
   },
   "outputs": [],
   "source": [
    "# Rename the \"acct\" column in the daily_engagement table to \"account_key\".\n",
    "\n",
    "for record in daily_engagement:\n",
    "    # creating new column called \"account_key\" and fill up data from 'acct' col\n",
    "    record['account_key'] = record['acct']\n",
    "    # delete 'acct' col\n",
    "    del record['acct']    "
   ]
  },
  {
   "cell_type": "code",
   "execution_count": 17,
   "metadata": {
    "collapsed": false
   },
   "outputs": [
    {
     "data": {
      "text/plain": [
       "'0'"
      ]
     },
     "execution_count": 17,
     "metadata": {},
     "output_type": "execute_result"
    }
   ],
   "source": [
    "daily_engagement[0]['account_key'] # getting data with new colunm name works"
   ]
  },
  {
   "cell_type": "markdown",
   "metadata": {},
   "source": [
    "__Now, the \"counter\" function doesn't have to be hacky. <br> It can simply look for data points in \"account_key\" columns.__"
   ]
  },
  {
   "cell_type": "code",
   "execution_count": 18,
   "metadata": {
    "collapsed": true
   },
   "outputs": [],
   "source": [
    "def uniqueStudent(data):\n",
    "    \"\"\"\n",
    "    Returns a set holds unique account_key info\n",
    "    \n",
    "    INPUT : list\n",
    "    OUTPUT: set\n",
    "    \"\"\"\n",
    "    \n",
    "    unique = set()\n",
    "\n",
    "    for row in data:\n",
    "        unique.add(row['account_key'])\n",
    "            \n",
    "    return unique"
   ]
  },
  {
   "cell_type": "code",
   "execution_count": 19,
   "metadata": {
    "collapsed": false
   },
   "outputs": [
    {
     "data": {
      "text/plain": [
       "set"
      ]
     },
     "execution_count": 19,
     "metadata": {},
     "output_type": "execute_result"
    }
   ],
   "source": [
    "type(uniqueStudent(enrollments))"
   ]
  },
  {
   "cell_type": "markdown",
   "metadata": {},
   "source": [
    "### – Find enrollment records without corresponding daily engagement data and output that enrollment"
   ]
  },
  {
   "cell_type": "code",
   "execution_count": 20,
   "metadata": {
    "collapsed": true
   },
   "outputs": [],
   "source": [
    "uniqueEnrolledStudents = uniqueStudent(enrollments)\n",
    "uniqueActiveStudents = uniqueStudent(daily_engagement)"
   ]
  },
  {
   "cell_type": "code",
   "execution_count": 21,
   "metadata": {
    "collapsed": false
   },
   "outputs": [
    {
     "data": {
      "text/plain": [
       "1302"
      ]
     },
     "execution_count": 21,
     "metadata": {},
     "output_type": "execute_result"
    }
   ],
   "source": [
    "len(uniqueEnrolledStudents)"
   ]
  },
  {
   "cell_type": "code",
   "execution_count": 22,
   "metadata": {
    "collapsed": false
   },
   "outputs": [
    {
     "data": {
      "text/plain": [
       "1237"
      ]
     },
     "execution_count": 22,
     "metadata": {},
     "output_type": "execute_result"
    }
   ],
   "source": [
    "len(uniqueActiveStudents)"
   ]
  },
  {
   "cell_type": "code",
   "execution_count": 30,
   "metadata": {
    "collapsed": false
   },
   "outputs": [],
   "source": [
    "# nonActiveAccount list holds unique account_key of students who are enrolled but doesn't have daily engagement record\n",
    "nonActiveAccount = []\n",
    "\n",
    "for student in uniqueEnrolledStudents:\n",
    "    if student not in uniqueActiveStudents:\n",
    "        nonActiveAccount.append(student)"
   ]
  },
  {
   "cell_type": "code",
   "execution_count": 31,
   "metadata": {
    "collapsed": false
   },
   "outputs": [
    {
     "data": {
      "text/plain": [
       "65"
      ]
     },
     "execution_count": 31,
     "metadata": {},
     "output_type": "execute_result"
    }
   ],
   "source": [
    "len(nonActiveAccount) # there are 65 enrolled students that has no activity records, 1302-1237 = 65 "
   ]
  },
  {
   "cell_type": "code",
   "execution_count": 60,
   "metadata": {
    "collapsed": false
   },
   "outputs": [
    {
     "name": "stdout",
     "output_type": "stream",
     "text": [
      "['1010', '1025', '1044', '1063', '1069', '1079', '1086', '1101', '1120', '1125', '1129', '1145', '1148', '1155', '1171', '1186', '1190', '1191', '1213', '1218', '1219', '1222', '1237', '1238', '1241', '1270', '1273', '1284', '1291', '1304', '654', '664', '707', '711', '717', '725', '727', '728', '733', '737', '739', '749', '750', '766', '789', '799', '802', '803', '817', '819', '841', '870', '871', '875', '878', '884', '889', '902', '914', '926', '964', '968', '981', '996', '997']\n"
     ]
    }
   ],
   "source": [
    "print(sorted(nonActiveAccount)) # showing first 10 non-active students' account key"
   ]
  },
  {
   "cell_type": "code",
   "execution_count": null,
   "metadata": {
    "collapsed": true
   },
   "outputs": [],
   "source": [
    "['', '', '', '', '', '', '', '', '', '', '', '', '', '', \n",
    " '', '', '', '', '', '', '', '', '', '', '', '', '', '', \n",
    " '', '', '', '', '', '', '', '', '', '', '', '', '', '', '', '\n",
    " '', '', '', '', '', '', '', '', '', '', '', '', '', '', '', '', \n",
    " '', '', '', '996', '997']\n",
    "\n",
    "['1129', # there were two of these\n",
    " '1304', # there were two of these,\n",
    " '654', # there were three of these\n",
    " '654',,\n",
    " '819',# there were two of these\n",
    " '914',\n",
    "\n",
    "\n"
   ]
  },
  {
   "cell_type": "code",
   "execution_count": 38,
   "metadata": {
    "collapsed": false
   },
   "outputs": [],
   "source": [
    "nonActiveAccount2 = []\n",
    "\n",
    "for student in enrollments:\n",
    "    if student['account_key'] not in uniqueActiveStudents:\n",
    "        nonActiveAccount2.append(student)"
   ]
  },
  {
   "cell_type": "code",
   "execution_count": 39,
   "metadata": {
    "collapsed": false
   },
   "outputs": [
    {
     "data": {
      "text/plain": [
       "71"
      ]
     },
     "execution_count": 39,
     "metadata": {},
     "output_type": "execute_result"
    }
   ],
   "source": [
    "len(nonActiveAccount2) # what makes the length is different? \n",
    "                    # those who have no active record has multiple enrollment recrod?"
   ]
  },
  {
   "cell_type": "code",
   "execution_count": 54,
   "metadata": {
    "collapsed": false
   },
   "outputs": [],
   "source": [
    "temp = []\n",
    "for i in range(len(nonActiveAccount2)):\n",
    "    temp.append(nonActiveAccount2[i]['account_key'])"
   ]
  },
  {
   "cell_type": "code",
   "execution_count": 61,
   "metadata": {
    "collapsed": false
   },
   "outputs": [
    {
     "data": {
      "text/plain": [
       "['1010',\n",
       " '1025',\n",
       " '1044',\n",
       " '1063',\n",
       " '1069',\n",
       " '1079',\n",
       " '1086',\n",
       " '1101',\n",
       " '1120',\n",
       " '1125',\n",
       " '1129',\n",
       " '1129',\n",
       " '1145',\n",
       " '1148',\n",
       " '1155',\n",
       " '1171',\n",
       " '1186',\n",
       " '1190',\n",
       " '1191',\n",
       " '1213',\n",
       " '1218',\n",
       " '1219',\n",
       " '1222',\n",
       " '1237',\n",
       " '1238',\n",
       " '1241',\n",
       " '1270',\n",
       " '1273',\n",
       " '1284',\n",
       " '1291',\n",
       " '1304',\n",
       " '1304',\n",
       " '654',\n",
       " '654',\n",
       " '654',\n",
       " '664',\n",
       " '707',\n",
       " '711',\n",
       " '717',\n",
       " '725',\n",
       " '727',\n",
       " '728',\n",
       " '733',\n",
       " '737',\n",
       " '739',\n",
       " '749',\n",
       " '750',\n",
       " '766',\n",
       " '789',\n",
       " '799',\n",
       " '802',\n",
       " '803',\n",
       " '817',\n",
       " '819',\n",
       " '819',\n",
       " '841',\n",
       " '870',\n",
       " '871',\n",
       " '875',\n",
       " '878',\n",
       " '884',\n",
       " '889',\n",
       " '902',\n",
       " '914',\n",
       " '914',\n",
       " '926',\n",
       " '964',\n",
       " '968',\n",
       " '981',\n",
       " '996',\n",
       " '997']"
      ]
     },
     "execution_count": 61,
     "metadata": {},
     "output_type": "execute_result"
    }
   ],
   "source": [
    "sorted(temp)"
   ]
  },
  {
   "cell_type": "code",
   "execution_count": 57,
   "metadata": {
    "collapsed": false
   },
   "outputs": [
    {
     "name": "stdout",
     "output_type": "stream",
     "text": [
      "71\n"
     ]
    }
   ],
   "source": [
    "cnt_there = 0\n",
    "\n",
    "for i in range(len(temp)):\n",
    "    if temp[i] in nonActiveAccount:\n",
    "        cnt_there += 1\n",
    "        \n",
    "print(cnt_there)"
   ]
  },
  {
   "cell_type": "code",
   "execution_count": 58,
   "metadata": {
    "collapsed": false
   },
   "outputs": [
    {
     "name": "stdout",
     "output_type": "stream",
     "text": [
      "0\n"
     ]
    }
   ],
   "source": [
    "cnt_notthere = 0\n",
    "\n",
    "for i in range(len(temp)):\n",
    "    if temp[i] not in nonActiveAccount:\n",
    "        cnt_notthere += 1\n",
    "        \n",
    "print(cnt_notthere)"
   ]
  },
  {
   "cell_type": "markdown",
   "metadata": {},
   "source": [
    "__Just looking at account key won't tell us much. <br>\n",
    "Having enrollment information about those non-active student like below might be more helpful.__"
   ]
  },
  {
   "cell_type": "code",
   "execution_count": 33,
   "metadata": {
    "collapsed": false
   },
   "outputs": [],
   "source": [
    "# nonActiveStudents list holds enrollment data of students who are enrolled but doesn't have daily engagement record\n",
    "nonActiveStudents = []\n",
    "\n",
    "for student in enrollments:\n",
    "    if student['account_key'] not in uniqueActiveStudents:\n",
    "        nonActiveStudents.append(student)"
   ]
  },
  {
   "cell_type": "code",
   "execution_count": 34,
   "metadata": {
    "collapsed": false
   },
   "outputs": [
    {
     "data": {
      "text/plain": [
       "71"
      ]
     },
     "execution_count": 34,
     "metadata": {},
     "output_type": "execute_result"
    }
   ],
   "source": [
    "len(nonActiveStudents)  ### ha? why?"
   ]
  },
  {
   "cell_type": "code",
   "execution_count": 35,
   "metadata": {
    "collapsed": false
   },
   "outputs": [
    {
     "name": "stdout",
     "output_type": "stream",
     "text": [
      "[OrderedDict([('account_key', '1219'), ('status', 'canceled'), ('join_date', datetime.datetime(2014, 11, 12, 0, 0)), ('cancel_date', datetime.datetime(2014, 11, 12, 0, 0)), ('days_to_cancel', 0), ('is_udacity', False), ('is_canceled', True)]), OrderedDict([('account_key', '871'), ('status', 'canceled'), ('join_date', datetime.datetime(2014, 11, 13, 0, 0)), ('cancel_date', datetime.datetime(2014, 11, 13, 0, 0)), ('days_to_cancel', 0), ('is_udacity', False), ('is_canceled', True)]), OrderedDict([('account_key', '1218'), ('status', 'canceled'), ('join_date', datetime.datetime(2014, 11, 15, 0, 0)), ('cancel_date', datetime.datetime(2014, 11, 15, 0, 0)), ('days_to_cancel', 0), ('is_udacity', False), ('is_canceled', True)]), OrderedDict([('account_key', '654'), ('status', 'canceled'), ('join_date', datetime.datetime(2014, 12, 4, 0, 0)), ('cancel_date', datetime.datetime(2014, 12, 4, 0, 0)), ('days_to_cancel', 0), ('is_udacity', False), ('is_canceled', True)]), OrderedDict([('account_key', '654'), ('status', 'canceled'), ('join_date', datetime.datetime(2014, 12, 4, 0, 0)), ('cancel_date', datetime.datetime(2014, 12, 4, 0, 0)), ('days_to_cancel', 0), ('is_udacity', False), ('is_canceled', True)]), OrderedDict([('account_key', '654'), ('status', 'canceled'), ('join_date', datetime.datetime(2014, 12, 3, 0, 0)), ('cancel_date', datetime.datetime(2014, 12, 3, 0, 0)), ('days_to_cancel', 0), ('is_udacity', False), ('is_canceled', True)]), OrderedDict([('account_key', '964'), ('status', 'canceled'), ('join_date', datetime.datetime(2014, 12, 4, 0, 0)), ('cancel_date', datetime.datetime(2014, 12, 4, 0, 0)), ('days_to_cancel', 0), ('is_udacity', False), ('is_canceled', True)]), OrderedDict([('account_key', '817'), ('status', 'canceled'), ('join_date', datetime.datetime(2014, 12, 9, 0, 0)), ('cancel_date', datetime.datetime(2014, 12, 9, 0, 0)), ('days_to_cancel', 0), ('is_udacity', False), ('is_canceled', True)]), OrderedDict([('account_key', '1171'), ('status', 'canceled'), ('join_date', datetime.datetime(2015, 1, 7, 0, 0)), ('cancel_date', datetime.datetime(2015, 1, 7, 0, 0)), ('days_to_cancel', 0), ('is_udacity', False), ('is_canceled', True)]), OrderedDict([('account_key', '884'), ('status', 'canceled'), ('join_date', datetime.datetime(2015, 1, 8, 0, 0)), ('cancel_date', datetime.datetime(2015, 1, 8, 0, 0)), ('days_to_cancel', 0), ('is_udacity', False), ('is_canceled', True)])]\n"
     ]
    }
   ],
   "source": [
    "print(nonActiveStudents[:10]) "
   ]
  },
  {
   "cell_type": "code",
   "execution_count": null,
   "metadata": {
    "collapsed": true
   },
   "outputs": [],
   "source": []
  }
 ],
 "metadata": {
  "kernelspec": {
   "display_name": "Python 3",
   "language": "python",
   "name": "python3"
  },
  "language_info": {
   "codemirror_mode": {
    "name": "ipython",
    "version": 3
   },
   "file_extension": ".py",
   "mimetype": "text/x-python",
   "name": "python",
   "nbconvert_exporter": "python",
   "pygments_lexer": "ipython3",
   "version": "3.6.0"
  }
 },
 "nbformat": 4,
 "nbformat_minor": 2
}
