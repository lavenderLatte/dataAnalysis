{
 "cells": [
  {
   "cell_type": "markdown",
   "metadata": {},
   "source": [
    "## Data Aquisition \n",
    "### >>> Load Data from CSVs"
   ]
  },
  {
   "cell_type": "code",
   "execution_count": 1,
   "metadata": {
    "collapsed": true
   },
   "outputs": [],
   "source": [
    "import unicodecsv"
   ]
  },
  {
   "cell_type": "code",
   "execution_count": 2,
   "metadata": {
    "collapsed": true
   },
   "outputs": [],
   "source": [
    "import unicodecsv\n",
    "\n",
    "def readCSV(filename):\n",
    "    \"\"\"\n",
    "    Reads in the data from given file; filename\n",
    "    \n",
    "    INPUT : csv file\n",
    "    OUTPUT: list\n",
    "    \"\"\"\n",
    "    with open(filename, 'rb') as file:\n",
    "        handle = unicodecsv.DictReader(file)\n",
    "        return list(handle)"
   ]
  },
  {
   "cell_type": "code",
   "execution_count": 3,
   "metadata": {
    "collapsed": false
   },
   "outputs": [
    {
     "data": {
      "text/plain": [
       "OrderedDict([('account_key', '448'),\n",
       "             ('status', 'canceled'),\n",
       "             ('join_date', '2014-11-10'),\n",
       "             ('cancel_date', '2015-01-14'),\n",
       "             ('days_to_cancel', '65'),\n",
       "             ('is_udacity', 'True'),\n",
       "             ('is_canceled', 'True')])"
      ]
     },
     "execution_count": 3,
     "metadata": {},
     "output_type": "execute_result"
    }
   ],
   "source": [
    "enrollments = readCSV('enrollments.csv') # data type: list\n",
    "enrollments[0] # shows first row with col name from data file "
   ]
  },
  {
   "cell_type": "code",
   "execution_count": 4,
   "metadata": {
    "collapsed": false
   },
   "outputs": [
    {
     "data": {
      "text/plain": [
       "list"
      ]
     },
     "execution_count": 4,
     "metadata": {},
     "output_type": "execute_result"
    }
   ],
   "source": [
    "type(enrollments)"
   ]
  },
  {
   "cell_type": "code",
   "execution_count": 5,
   "metadata": {
    "collapsed": false
   },
   "outputs": [
    {
     "data": {
      "text/plain": [
       "1640"
      ]
     },
     "execution_count": 5,
     "metadata": {},
     "output_type": "execute_result"
    }
   ],
   "source": [
    "len(enrollments)"
   ]
  },
  {
   "cell_type": "code",
   "execution_count": 6,
   "metadata": {
    "collapsed": false
   },
   "outputs": [
    {
     "data": {
      "text/plain": [
       "'448'"
      ]
     },
     "execution_count": 6,
     "metadata": {},
     "output_type": "execute_result"
    }
   ],
   "source": [
    "enrollments[0]['account_key'] # shows first row x first col data"
   ]
  },
  {
   "cell_type": "code",
   "execution_count": 7,
   "metadata": {
    "collapsed": false,
    "scrolled": true
   },
   "outputs": [
    {
     "data": {
      "text/plain": [
       "OrderedDict([('acct', '0'),\n",
       "             ('utc_date', '2015-01-09'),\n",
       "             ('num_courses_visited', '1.0'),\n",
       "             ('total_minutes_visited', '11.6793745'),\n",
       "             ('lessons_completed', '0.0'),\n",
       "             ('projects_completed', '0.0')])"
      ]
     },
     "execution_count": 7,
     "metadata": {},
     "output_type": "execute_result"
    }
   ],
   "source": [
    "daily_engagement = readCSV('daily_engagement.csv')\n",
    "daily_engagement[0]"
   ]
  },
  {
   "cell_type": "code",
   "execution_count": 8,
   "metadata": {
    "collapsed": false
   },
   "outputs": [
    {
     "data": {
      "text/plain": [
       "817440"
      ]
     },
     "execution_count": 8,
     "metadata": {},
     "output_type": "execute_result"
    }
   ],
   "source": [
    "len(daily_engagement) * 6"
   ]
  },
  {
   "cell_type": "code",
   "execution_count": 9,
   "metadata": {
    "collapsed": false
   },
   "outputs": [
    {
     "data": {
      "text/plain": [
       "OrderedDict([('creation_date', '2015-01-14'),\n",
       "             ('completion_date', '2015-01-16'),\n",
       "             ('assigned_rating', 'UNGRADED'),\n",
       "             ('account_key', '256'),\n",
       "             ('lesson_key', '3176718735'),\n",
       "             ('processing_state', 'EVALUATED')])"
      ]
     },
     "execution_count": 9,
     "metadata": {},
     "output_type": "execute_result"
    }
   ],
   "source": [
    "project_submissions = readCSV('project_submissions.csv')\n",
    "project_submissions[0] "
   ]
  },
  {
   "cell_type": "code",
   "execution_count": 10,
   "metadata": {
    "collapsed": false
   },
   "outputs": [
    {
     "data": {
      "text/plain": [
       "21852"
      ]
     },
     "execution_count": 10,
     "metadata": {},
     "output_type": "execute_result"
    }
   ],
   "source": [
    "len(project_submissions) * 6"
   ]
  },
  {
   "cell_type": "code",
   "execution_count": 11,
   "metadata": {
    "collapsed": false
   },
   "outputs": [
    {
     "data": {
      "text/plain": [
       "850772"
      ]
     },
     "execution_count": 11,
     "metadata": {},
     "output_type": "execute_result"
    }
   ],
   "source": [
    "11480+817440+21852"
   ]
  },
  {
   "cell_type": "markdown",
   "metadata": {},
   "source": [
    "## Data Cleaning \n",
    "### >>> Fix Data Types to Suitable Format"
   ]
  },
  {
   "cell_type": "code",
   "execution_count": 12,
   "metadata": {
    "collapsed": true
   },
   "outputs": [],
   "source": [
    "from datetime import datetime as dt"
   ]
  },
  {
   "cell_type": "code",
   "execution_count": 13,
   "metadata": {
    "collapsed": true
   },
   "outputs": [],
   "source": [
    "def convertDatetime(date):\n",
    "    \"\"\"\n",
    "    Takes str type data, and returns in into a Python datetime object\n",
    "    If there is no date given, returns None\n",
    "    \n",
    "    INPUT : string\n",
    "    OUTPUT: datetime obj or None\n",
    "    \"\"\"\n",
    "    if date == '':\n",
    "        return None\n",
    "    else:\n",
    "        return dt.strptime(date, '%Y-%m-%d')"
   ]
  },
  {
   "cell_type": "code",
   "execution_count": 14,
   "metadata": {
    "collapsed": true
   },
   "outputs": [],
   "source": [
    "def convertInt(i):\n",
    "    \"\"\"\n",
    "    Takes a string which is either an empty string or represents an integer,\n",
    "    and returns an int or None.\n",
    "    \n",
    "    INPUT : string\n",
    "    OUTPUT: int or None\n",
    "    \"\"\"\n",
    "    if i == '':\n",
    "        return None\n",
    "    else:\n",
    "        return int(i)"
   ]
  },
  {
   "cell_type": "code",
   "execution_count": 15,
   "metadata": {
    "collapsed": true
   },
   "outputs": [],
   "source": [
    "# Clean up the data types in the enrollments table\n",
    "# this can be run only once, if I run it again, the data type is already converted, and will cause error\n",
    "\n",
    "for student in enrollments:\n",
    "    student['cancel_date'] = convertDatetime(student['cancel_date'])  # str -> datetime obj\n",
    "    student['days_to_cancel'] = convertInt(student['days_to_cancel']) # str -> int\n",
    "    student['is_canceled'] = student['is_canceled'] == 'True'         # str -> bool\n",
    "    student['is_udacity'] = student['is_udacity'] == 'True'\n",
    "    student['join_date'] = convertDatetime(student['join_date'])"
   ]
  },
  {
   "cell_type": "code",
   "execution_count": 16,
   "metadata": {
    "collapsed": false
   },
   "outputs": [
    {
     "data": {
      "text/plain": [
       "OrderedDict([('account_key', '448'),\n",
       "             ('status', 'canceled'),\n",
       "             ('join_date', datetime.datetime(2014, 11, 10, 0, 0)),\n",
       "             ('cancel_date', datetime.datetime(2015, 1, 14, 0, 0)),\n",
       "             ('days_to_cancel', 65),\n",
       "             ('is_udacity', True),\n",
       "             ('is_canceled', True)])"
      ]
     },
     "execution_count": 16,
     "metadata": {},
     "output_type": "execute_result"
    }
   ],
   "source": [
    "enrollments[0] # shows data in suitable/meaningful format"
   ]
  },
  {
   "cell_type": "code",
   "execution_count": 17,
   "metadata": {
    "collapsed": true
   },
   "outputs": [],
   "source": [
    "# Clean up the data types in the engagement table\n",
    "\n",
    "for record in daily_engagement:\n",
    "    record['lessons_completed'] = int(float(record['lessons_completed']))    # str -> float ->int\n",
    "    record['num_courses_visited'] = int(float(record['num_courses_visited']))\n",
    "    record['projects_completed'] = int(float(record['projects_completed']))\n",
    "    record['total_minutes_visited'] = float(record['total_minutes_visited']) # str -> float\n",
    "    record['utc_date'] = convertDatetime(record['utc_date'])"
   ]
  },
  {
   "cell_type": "code",
   "execution_count": 18,
   "metadata": {
    "collapsed": false
   },
   "outputs": [
    {
     "data": {
      "text/plain": [
       "OrderedDict([('acct', '0'),\n",
       "             ('utc_date', datetime.datetime(2015, 1, 9, 0, 0)),\n",
       "             ('num_courses_visited', 1),\n",
       "             ('total_minutes_visited', 11.6793745),\n",
       "             ('lessons_completed', 0),\n",
       "             ('projects_completed', 0)])"
      ]
     },
     "execution_count": 18,
     "metadata": {},
     "output_type": "execute_result"
    }
   ],
   "source": [
    "daily_engagement[0]"
   ]
  },
  {
   "cell_type": "code",
   "execution_count": 19,
   "metadata": {
    "collapsed": true
   },
   "outputs": [],
   "source": [
    "# Clean up the data types in the submissions table\n",
    "\n",
    "for submission in project_submissions:\n",
    "    submission['completion_date'] = convertDatetime(submission['completion_date'])\n",
    "    submission['creation_date'] = convertDatetime(submission['creation_date'])"
   ]
  },
  {
   "cell_type": "code",
   "execution_count": 20,
   "metadata": {
    "collapsed": false
   },
   "outputs": [
    {
     "data": {
      "text/plain": [
       "OrderedDict([('creation_date', datetime.datetime(2015, 1, 14, 0, 0)),\n",
       "             ('completion_date', datetime.datetime(2015, 1, 16, 0, 0)),\n",
       "             ('assigned_rating', 'UNGRADED'),\n",
       "             ('account_key', '256'),\n",
       "             ('lesson_key', '3176718735'),\n",
       "             ('processing_state', 'EVALUATED')])"
      ]
     },
     "execution_count": 20,
     "metadata": {},
     "output_type": "execute_result"
    }
   ],
   "source": [
    "project_submissions[0]"
   ]
  },
  {
   "cell_type": "markdown",
   "metadata": {},
   "source": [
    "## Questions\n",
    "### – After briefly looking at the data, what interesting question can we ask?\n",
    "\n",
    "- How long each student takes to submit their projects?\n",
    "- How do students who passes their projects differ from those who don't in terms of daily engagement?\n",
    "- How many do students visit courses and for how long do they visit before cancel?\n",
    "- Among visited courses, how many lessons and projects were completed?\n",
    "- Any relationship between the number of completed lessons and the number of completed project?\n",
    "- How the daily engagement of each student changes?\n",
    "- How many times students submit their projects before it passes?"
   ]
  },
  {
   "cell_type": "markdown",
   "metadata": {},
   "source": [
    "## Explore Data\n",
    "\n",
    "### >>> Closer look to the data"
   ]
  },
  {
   "cell_type": "code",
   "execution_count": 21,
   "metadata": {
    "collapsed": false
   },
   "outputs": [
    {
     "name": "stdout",
     "output_type": "stream",
     "text": [
      "<class 'list'>\n",
      "<class 'collections.OrderedDict'>\n"
     ]
    }
   ],
   "source": [
    "print (type(enrollments))\n",
    "print (type(student))"
   ]
  },
  {
   "cell_type": "code",
   "execution_count": 22,
   "metadata": {
    "collapsed": false
   },
   "outputs": [
    {
     "name": "stdout",
     "output_type": "stream",
     "text": [
      "total number of rows: 1640\n",
      "total number of columns: 7\n"
     ]
    }
   ],
   "source": [
    "print (\"total number of rows:\", len(enrollments))\n",
    "print(\"total number of columns:\", len(student))"
   ]
  },
  {
   "cell_type": "code",
   "execution_count": 23,
   "metadata": {
    "collapsed": true
   },
   "outputs": [],
   "source": [
    "def studentCounter(data):\n",
    "    \"\"\"\n",
    "    Returns the total number of rows in data set\n",
    "    and the the number of unique account key.\n",
    "    \n",
    "    INPUT : list\n",
    "    OUTPUT: tuple\n",
    "    \"\"\"\n",
    "    \n",
    "    unique = set() # \"set\" is unordered collections of unique elements\n",
    "\n",
    "    for row in data:\n",
    "        try:\n",
    "            unique.add(row['account_key'])\n",
    "            \n",
    "        # this is just a hack to use same function for all three data file \n",
    "        # it's not good practice and the fixed version is in several cells below\n",
    "        except Exception:\n",
    "            unique.add(row['acct'])\n",
    "\n",
    "    return (len(data), len(unique))"
   ]
  },
  {
   "cell_type": "code",
   "execution_count": 24,
   "metadata": {
    "collapsed": false
   },
   "outputs": [
    {
     "data": {
      "text/plain": [
       "(1640, 1302)"
      ]
     },
     "execution_count": 24,
     "metadata": {},
     "output_type": "execute_result"
    }
   ],
   "source": [
    "studentCounter(enrollments) # among 1640 student info, there are 338(1640-1302) duplicated ones"
   ]
  },
  {
   "cell_type": "code",
   "execution_count": 25,
   "metadata": {
    "collapsed": false
   },
   "outputs": [
    {
     "data": {
      "text/plain": [
       "(136240, 1237)"
      ]
     },
     "execution_count": 25,
     "metadata": {},
     "output_type": "execute_result"
    }
   ],
   "source": [
    "studentCounter(daily_engagement) # 136240 daily records info is about 1237 unique students"
   ]
  },
  {
   "cell_type": "code",
   "execution_count": 26,
   "metadata": {
    "collapsed": false
   },
   "outputs": [
    {
     "data": {
      "text/plain": [
       "(3642, 743)"
      ]
     },
     "execution_count": 26,
     "metadata": {},
     "output_type": "execute_result"
    }
   ],
   "source": [
    "studentCounter(project_submissions) # total of 3642 submissions are from 743 students"
   ]
  },
  {
   "cell_type": "markdown",
   "metadata": {},
   "source": [
    "### >>> Observations\n",
    "\n",
    "(1) The number of row is bigger than the number of unique students.\n",
    "- This might be due to the students enrolled and cancelled and re-enrolled again with same account info.\n",
    "    \n",
    "(2) __The unique number of students from daily engagement is smaller than the number of enrolled students.__\n",
    "- This might be because either some students enrolled to the course but didn't start anything yet.\n",
    "- Yet, still the num of unique students in enrollments and daily engagement should match!!!\n",
    "- _We are going to fix it in below_\n",
    "\n",
    "(3) About only half of enrolled students submitted projects.\n",
    "\n",
    "(4)__ There are two different names that holds same type of info; 'account_key' and 'acct'__\n",
    "- _We are going to fix it in below_\n"
   ]
  },
  {
   "cell_type": "markdown",
   "metadata": {},
   "source": [
    "## More Data Cleaning\n",
    "### >>> Merge Multiple Column Names for the Same Data to Single Name, for (4)"
   ]
  },
  {
   "cell_type": "code",
   "execution_count": 27,
   "metadata": {
    "collapsed": true
   },
   "outputs": [],
   "source": [
    "# Rename the \"acct\" column in the daily_engagement table to \"account_key\".\n",
    "\n",
    "for record in daily_engagement:\n",
    "    # creating new column called \"account_key\" and copy data from 'acct' col\n",
    "    record['account_key'] = record['acct']\n",
    "    # delete 'acct' col\n",
    "    del record['acct']    "
   ]
  },
  {
   "cell_type": "code",
   "execution_count": 28,
   "metadata": {
    "collapsed": false
   },
   "outputs": [
    {
     "data": {
      "text/plain": [
       "'0'"
      ]
     },
     "execution_count": 28,
     "metadata": {},
     "output_type": "execute_result"
    }
   ],
   "source": [
    "daily_engagement[0]['account_key'] # getting data with new colunm name works"
   ]
  },
  {
   "cell_type": "markdown",
   "metadata": {},
   "source": [
    "<b>_Now, since there will a single column name for account key data the \"counter\" function from above doesn't have to be hacky. It can simply look for data points in \"account key\" columns._"
   ]
  },
  {
   "cell_type": "code",
   "execution_count": 29,
   "metadata": {
    "collapsed": true
   },
   "outputs": [],
   "source": [
    "def uniqueStudent(data):\n",
    "    \"\"\"\n",
    "    Returns a set only holds unique account_key info\n",
    "    \n",
    "    INPUT : list\n",
    "    OUTPUT: set\n",
    "    \"\"\"\n",
    "    \n",
    "    unique = set()\n",
    "\n",
    "    for row in data:\n",
    "        unique.add(row['account_key'])\n",
    "            \n",
    "    return unique"
   ]
  },
  {
   "cell_type": "markdown",
   "metadata": {},
   "source": [
    "(1-11)\n",
    "### >>> Find enrollment records without corresponding daily engagement data and output that enrollment, for (2)"
   ]
  },
  {
   "cell_type": "code",
   "execution_count": 30,
   "metadata": {
    "collapsed": false
   },
   "outputs": [],
   "source": [
    "uniqueEnrolledAccounts = uniqueStudent(enrollments) # only holds 'account_key' info \n",
    "uniqueActiveAccounts = uniqueStudent(daily_engagement)"
   ]
  },
  {
   "cell_type": "code",
   "execution_count": 31,
   "metadata": {
    "collapsed": false
   },
   "outputs": [
    {
     "data": {
      "text/plain": [
       "1302"
      ]
     },
     "execution_count": 31,
     "metadata": {},
     "output_type": "execute_result"
    }
   ],
   "source": [
    "len(uniqueEnrolledAccounts)"
   ]
  },
  {
   "cell_type": "code",
   "execution_count": 32,
   "metadata": {
    "collapsed": false
   },
   "outputs": [
    {
     "data": {
      "text/plain": [
       "1237"
      ]
     },
     "execution_count": 32,
     "metadata": {},
     "output_type": "execute_result"
    }
   ],
   "source": [
    "len(uniqueActiveAccounts)"
   ]
  },
  {
   "cell_type": "code",
   "execution_count": 33,
   "metadata": {
    "collapsed": false
   },
   "outputs": [],
   "source": [
    "# nonActiveAccount list holds \n",
    "# unique \"account_key\" of students who are enrolled, but doesn't have daily engagement record\n",
    "\n",
    "uniqueNonActiveAccounts = []\n",
    "\n",
    "for accountKey in uniqueEnrolledAccounts:\n",
    "    if accountKey not in uniqueActiveAccounts:\n",
    "        uniqueNonActiveAccounts.append(accountKey)"
   ]
  },
  {
   "cell_type": "code",
   "execution_count": 34,
   "metadata": {
    "collapsed": false
   },
   "outputs": [
    {
     "data": {
      "text/plain": [
       "65"
      ]
     },
     "execution_count": 34,
     "metadata": {},
     "output_type": "execute_result"
    }
   ],
   "source": [
    "len(uniqueNonActiveAccounts) "
   ]
  },
  {
   "cell_type": "markdown",
   "metadata": {},
   "source": [
    "<b> _There are 65 enrolled students that has no activity records. Which also makes sense by doing simple math, 1302-1237 = 65.\n",
    "<br> <br>\n",
    "Below is first 5 non-active students account keys._"
   ]
  },
  {
   "cell_type": "code",
   "execution_count": 35,
   "metadata": {
    "collapsed": false
   },
   "outputs": [
    {
     "name": "stdout",
     "output_type": "stream",
     "text": [
      "['1148', '739', '875', '1063', '1237']\n"
     ]
    }
   ],
   "source": [
    "print(uniqueNonActiveAccounts[:5])"
   ]
  },
  {
   "cell_type": "markdown",
   "metadata": {},
   "source": [
    "<i>__However, just looking at 65 account keys won't tell us much. Having enrollment information of those non-active unique student like below might be more helpful.__"
   ]
  },
  {
   "cell_type": "code",
   "execution_count": 36,
   "metadata": {
    "collapsed": false
   },
   "outputs": [],
   "source": [
    "# nonActiveStudents list holds ENROLLMENT DATA(not just account_key) of students \n",
    "# who are enrolled but doesn't have daily engagement record\n",
    "\n",
    "nonActiveStudents = []\n",
    "\n",
    "for student in enrollments: # \"student\" will have all enrollment data not just accout_key\n",
    "    if student['account_key'] not in uniqueActiveAccounts:\n",
    "        nonActiveStudents.append(student) "
   ]
  },
  {
   "cell_type": "code",
   "execution_count": 37,
   "metadata": {
    "collapsed": false
   },
   "outputs": [
    {
     "data": {
      "text/plain": [
       "71"
      ]
     },
     "execution_count": 37,
     "metadata": {},
     "output_type": "execute_result"
    }
   ],
   "source": [
    "len(nonActiveStudents) "
   ]
  },
  {
   "cell_type": "markdown",
   "metadata": {},
   "source": [
    "<i>__Wait, why the length of \"uniqueNonActiveAccounts(65)\" and \"nonActiveStudents(71)\" are different?__ <br>\n",
    "\n",
    "__uniqueNonActiveAccounts__ is composition of _unique_ enrolled accounts that are not active. Whereas, __nonActiveStudents__ is composed by all enrollement info, _including duplicates_, that are not active.\n",
    "\n",
    "Remember? Students info for uniqueNonActiveAccounts is from \"uniqueEnrolledAccounts\" which we removed all the duplicates. On the other hand, the student info for uniqueNonActiveStudents is from the whole \"enrollments\" which still has all the duplicated account key. <br>\n",
    "<br>\n",
    "__So, what are those duplicated ones?__"
   ]
  },
  {
   "cell_type": "code",
   "execution_count": 38,
   "metadata": {
    "collapsed": false
   },
   "outputs": [
    {
     "name": "stdout",
     "output_type": "stream",
     "text": [
      "key: 1129  freq: 2\n",
      "key: 914  freq: 2\n",
      "key: 819  freq: 2\n",
      "key: 1304  freq: 2\n",
      "key: 654  freq: 3\n"
     ]
    }
   ],
   "source": [
    "accntkeyFreq = {}\n",
    "\n",
    "# adding all nonActiveStudents to dict\n",
    "for accountKey in uniqueNonActiveAccounts:\n",
    "    accntkeyFreq[accountKey] = 0\n",
    "\n",
    "# counting frequency of each accout key that occurs in nonActiveStudents\n",
    "for student in nonActiveStudents:\n",
    "    accntkeyFreq[student['account_key']] += 1\n",
    "\n",
    "# these are the duplicated ones \n",
    "for key in accntkeyFreq:\n",
    "    if accntkeyFreq[key] > 1:\n",
    "        print (\"key:\", key, \" freq:\", accntkeyFreq[key])"
   ]
  },
  {
   "cell_type": "markdown",
   "metadata": {},
   "source": [
    "<i><b> Now that's clear, let's look at the first 5 non-active students enrollment info."
   ]
  },
  {
   "cell_type": "code",
   "execution_count": 39,
   "metadata": {
    "collapsed": false
   },
   "outputs": [
    {
     "name": "stdout",
     "output_type": "stream",
     "text": [
      "[OrderedDict([('account_key', '1219'), ('status', 'canceled'), ('join_date', datetime.datetime(2014, 11, 12, 0, 0)), ('cancel_date', datetime.datetime(2014, 11, 12, 0, 0)), ('days_to_cancel', 0), ('is_udacity', False), ('is_canceled', True)]), OrderedDict([('account_key', '871'), ('status', 'canceled'), ('join_date', datetime.datetime(2014, 11, 13, 0, 0)), ('cancel_date', datetime.datetime(2014, 11, 13, 0, 0)), ('days_to_cancel', 0), ('is_udacity', False), ('is_canceled', True)]), OrderedDict([('account_key', '1218'), ('status', 'canceled'), ('join_date', datetime.datetime(2014, 11, 15, 0, 0)), ('cancel_date', datetime.datetime(2014, 11, 15, 0, 0)), ('days_to_cancel', 0), ('is_udacity', False), ('is_canceled', True)]), OrderedDict([('account_key', '654'), ('status', 'canceled'), ('join_date', datetime.datetime(2014, 12, 4, 0, 0)), ('cancel_date', datetime.datetime(2014, 12, 4, 0, 0)), ('days_to_cancel', 0), ('is_udacity', False), ('is_canceled', True)]), OrderedDict([('account_key', '654'), ('status', 'canceled'), ('join_date', datetime.datetime(2014, 12, 4, 0, 0)), ('cancel_date', datetime.datetime(2014, 12, 4, 0, 0)), ('days_to_cancel', 0), ('is_udacity', False), ('is_canceled', True)])]\n"
     ]
    }
   ],
   "source": [
    "print(nonActiveStudents[:5]) "
   ]
  },
  {
   "cell_type": "markdown",
   "metadata": {
    "collapsed": true
   },
   "source": [
    "<b><i> One thing to observe is that the value for 'days_to_cancel' column is 0 for all there 5 rows. This explains why some of enrolled student don't have daily engagement record which seems normal. <br>\n",
    "\n",
    "<b><i> Out of 71 Non-active students record, 68 of them has 'days_to_cancel' == 0 and 3 of them has 'days_to_cancel' != 0 and these are Udacity test accounts."
   ]
  },
  {
   "cell_type": "code",
   "execution_count": 40,
   "metadata": {
    "collapsed": false
   },
   "outputs": [
    {
     "name": "stdout",
     "output_type": "stream",
     "text": [
      "OrderedDict([('account_key', '1304'), ('status', 'canceled'), ('join_date', datetime.datetime(2015, 1, 10, 0, 0)), ('cancel_date', datetime.datetime(2015, 3, 10, 0, 0)), ('days_to_cancel', 59), ('is_udacity', True), ('is_canceled', True)])\n",
      "OrderedDict([('account_key', '1304'), ('status', 'canceled'), ('join_date', datetime.datetime(2015, 3, 10, 0, 0)), ('cancel_date', datetime.datetime(2015, 6, 17, 0, 0)), ('days_to_cancel', 99), ('is_udacity', True), ('is_canceled', True)])\n",
      "OrderedDict([('account_key', '1101'), ('status', 'current'), ('join_date', datetime.datetime(2015, 2, 25, 0, 0)), ('cancel_date', None), ('days_to_cancel', None), ('is_udacity', True), ('is_canceled', False)])\n"
     ]
    }
   ],
   "source": [
    "for student in nonActiveStudents:\n",
    "    if student['days_to_cancel'] != 0:\n",
    "        print (student)"
   ]
  },
  {
   "cell_type": "code",
   "execution_count": 41,
   "metadata": {
    "collapsed": false
   },
   "outputs": [
    {
     "name": "stdout",
     "output_type": "stream",
     "text": [
      "68\n"
     ]
    }
   ],
   "source": [
    "cnt = 0\n",
    "for student in nonActiveStudents:\n",
    "    if student['days_to_cancel'] == 0:\n",
    "        cnt += 1\n",
    "\n",
    "print (cnt)"
   ]
  },
  {
   "cell_type": "markdown",
   "metadata": {},
   "source": [
    "<b><i> Maybe it's better to remove Udacity test accounts from all three datasets. \n",
    "\n",
    "<b><i>First, how many are there?\n",
    "--> 4 from non active students and 18 from total enrolled accounts "
   ]
  },
  {
   "cell_type": "code",
   "execution_count": 42,
   "metadata": {
    "collapsed": false
   },
   "outputs": [
    {
     "name": "stdout",
     "output_type": "stream",
     "text": [
      "4\n"
     ]
    }
   ],
   "source": [
    "cnt = 0\n",
    "\n",
    "for student in nonActiveStudents:\n",
    "    if student['is_udacity']:\n",
    "        cnt += 1\n",
    "\n",
    "print (cnt)"
   ]
  },
  {
   "cell_type": "code",
   "execution_count": 43,
   "metadata": {
    "collapsed": false
   },
   "outputs": [
    {
     "name": "stdout",
     "output_type": "stream",
     "text": [
      "18\n"
     ]
    }
   ],
   "source": [
    "cnt = 0\n",
    "udacity_AccountKey = set() # only to store unique values \n",
    "\n",
    "for student in enrollments:\n",
    "    if student['is_udacity']:\n",
    "        udacity_AccountKey.add(student['account_key'])\n",
    "        cnt += 1\n",
    "\n",
    "print (cnt)"
   ]
  },
  {
   "cell_type": "code",
   "execution_count": 44,
   "metadata": {
    "collapsed": false
   },
   "outputs": [
    {
     "data": {
      "text/plain": [
       "{'1069', '1101', '1304', '312', '448', '818'}"
      ]
     },
     "execution_count": 44,
     "metadata": {},
     "output_type": "execute_result"
    }
   ],
   "source": [
    "udacity_AccountKey"
   ]
  },
  {
   "cell_type": "code",
   "execution_count": 45,
   "metadata": {
    "collapsed": true
   },
   "outputs": [],
   "source": [
    "# function to get only data without Udacity test account\n",
    "\n",
    "def remove_isUdacity(data):\n",
    "    resultList = []\n",
    "    for row in data:\n",
    "        if row['account_key'] in udacity_AccountKey:\n",
    "            pass\n",
    "        else:\n",
    "            resultList.append(row)\n",
    "    \n",
    "    return resultList"
   ]
  },
  {
   "cell_type": "markdown",
   "metadata": {},
   "source": [
    "<b><i> Remove all the rows from all three datasets that are Udacity test account by using account_key "
   ]
  },
  {
   "cell_type": "code",
   "execution_count": 46,
   "metadata": {
    "collapsed": false
   },
   "outputs": [],
   "source": [
    "enrollments_noUdacity = remove_isUdacity(enrollments)\n",
    "daily_engagement_noUdacity = remove_isUdacity(daily_engagement)\n",
    "project_submissions_noUdacity = remove_isUdacity(project_submissions)"
   ]
  },
  {
   "cell_type": "code",
   "execution_count": 47,
   "metadata": {
    "collapsed": false
   },
   "outputs": [
    {
     "name": "stdout",
     "output_type": "stream",
     "text": [
      "1622\n",
      "135656\n",
      "3634\n"
     ]
    }
   ],
   "source": [
    "print (len(enrollments_noUdacity)) # total: 1640, udacity account: 18, 1640 - 18 = 1622 --> seems like it works!\n",
    "print (len(daily_engagement_noUdacity))\n",
    "print (len(project_submissions_noUdacity))"
   ]
  },
  {
   "cell_type": "markdown",
   "metadata": {},
   "source": [
    "... start from (1-14) "
   ]
  },
  {
   "cell_type": "code",
   "execution_count": null,
   "metadata": {
    "collapsed": true
   },
   "outputs": [],
   "source": []
  }
 ],
 "metadata": {
  "kernelspec": {
   "display_name": "Python 3",
   "language": "python",
   "name": "python3"
  },
  "language_info": {
   "codemirror_mode": {
    "name": "ipython",
    "version": 3
   },
   "file_extension": ".py",
   "mimetype": "text/x-python",
   "name": "python",
   "nbconvert_exporter": "python",
   "pygments_lexer": "ipython3",
   "version": "3.6.0"
  }
 },
 "nbformat": 4,
 "nbformat_minor": 2
}
